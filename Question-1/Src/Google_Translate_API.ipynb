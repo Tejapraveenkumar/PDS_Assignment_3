{
 "cells": [
  {
   "cell_type": "code",
   "execution_count": 21,
   "id": "393aa04e",
   "metadata": {},
   "outputs": [
    {
     "name": "stdout",
     "output_type": "stream",
     "text": [
      "Requirement already satisfied: requests in c:\\users\\tejap\\anaconda3\\lib\\site-packages (2.28.1)\n",
      "Requirement already satisfied: dash in c:\\users\\tejap\\anaconda3\\lib\\site-packages (2.16.1)\n",
      "Requirement already satisfied: idna<4,>=2.5 in c:\\users\\tejap\\anaconda3\\lib\\site-packages (from requests) (3.4)\n",
      "Requirement already satisfied: urllib3<1.27,>=1.21.1 in c:\\users\\tejap\\anaconda3\\lib\\site-packages (from requests) (1.26.14)\n",
      "Requirement already satisfied: certifi>=2017.4.17 in c:\\users\\tejap\\anaconda3\\lib\\site-packages (from requests) (2022.12.7)\n",
      "Requirement already satisfied: charset-normalizer<3,>=2 in c:\\users\\tejap\\anaconda3\\lib\\site-packages (from requests) (2.0.4)\n",
      "Requirement already satisfied: setuptools in c:\\users\\tejap\\anaconda3\\lib\\site-packages (from dash) (65.6.3)\n",
      "Requirement already satisfied: Werkzeug<3.1 in c:\\users\\tejap\\anaconda3\\lib\\site-packages (from dash) (2.2.2)\n",
      "Requirement already satisfied: dash-table==5.0.0 in c:\\users\\tejap\\anaconda3\\lib\\site-packages (from dash) (5.0.0)\n",
      "Requirement already satisfied: typing-extensions>=4.1.1 in c:\\users\\tejap\\anaconda3\\lib\\site-packages (from dash) (4.4.0)\n",
      "Requirement already satisfied: plotly>=5.0.0 in c:\\users\\tejap\\anaconda3\\lib\\site-packages (from dash) (5.9.0)\n",
      "Requirement already satisfied: importlib-metadata in c:\\users\\tejap\\anaconda3\\lib\\site-packages (from dash) (4.11.3)\n",
      "Requirement already satisfied: retrying in c:\\users\\tejap\\anaconda3\\lib\\site-packages (from dash) (1.3.4)\n",
      "Requirement already satisfied: dash-html-components==2.0.0 in c:\\users\\tejap\\anaconda3\\lib\\site-packages (from dash) (2.0.0)\n",
      "Requirement already satisfied: nest-asyncio in c:\\users\\tejap\\anaconda3\\lib\\site-packages (from dash) (1.5.6)\n",
      "Requirement already satisfied: Flask<3.1,>=1.0.4 in c:\\users\\tejap\\anaconda3\\lib\\site-packages (from dash) (2.2.2)\n",
      "Requirement already satisfied: dash-core-components==2.0.0 in c:\\users\\tejap\\anaconda3\\lib\\site-packages (from dash) (2.0.0)\n",
      "Requirement already satisfied: Jinja2>=3.0 in c:\\users\\tejap\\anaconda3\\lib\\site-packages (from Flask<3.1,>=1.0.4->dash) (3.1.2)\n",
      "Requirement already satisfied: click>=8.0 in c:\\users\\tejap\\anaconda3\\lib\\site-packages (from Flask<3.1,>=1.0.4->dash) (8.0.4)\n",
      "Requirement already satisfied: itsdangerous>=2.0 in c:\\users\\tejap\\anaconda3\\lib\\site-packages (from Flask<3.1,>=1.0.4->dash) (2.0.1)\n",
      "Requirement already satisfied: tenacity>=6.2.0 in c:\\users\\tejap\\anaconda3\\lib\\site-packages (from plotly>=5.0.0->dash) (8.0.1)\n",
      "Requirement already satisfied: MarkupSafe>=2.1.1 in c:\\users\\tejap\\anaconda3\\lib\\site-packages (from Werkzeug<3.1->dash) (2.1.1)\n",
      "Requirement already satisfied: zipp>=0.5 in c:\\users\\tejap\\anaconda3\\lib\\site-packages (from importlib-metadata->dash) (3.11.0)\n",
      "Requirement already satisfied: six>=1.7.0 in c:\\users\\tejap\\anaconda3\\lib\\site-packages (from retrying->dash) (1.16.0)\n",
      "Requirement already satisfied: colorama in c:\\users\\tejap\\anaconda3\\lib\\site-packages (from click>=8.0->Flask<3.1,>=1.0.4->dash) (0.4.6)\n",
      "Note: you may need to restart the kernel to use updated packages.\n"
     ]
    }
   ],
   "source": [
    "pip install requests dash"
   ]
  },
  {
   "cell_type": "code",
   "execution_count": 22,
   "id": "3419d53d",
   "metadata": {},
   "outputs": [
    {
     "name": "stdout",
     "output_type": "stream",
     "text": [
      "{'message': 'You have exceeded the MONTHLY quota for Characters on your current plan, BASIC. Upgrade your plan at https://rapidapi.com/googlecloud/api/google-translate1'}\n"
     ]
    }
   ],
   "source": [
    "import requests\n",
    "\n",
    "url = \"https://google-translate1.p.rapidapi.com/language/translate/v2/detect\"\n",
    "\n",
    "payload = { \"q\": \"English is hard, but detectably so\" }\n",
    "headers = {\n",
    "    \"content-type\": \"application/x-www-form-urlencoded\",\n",
    "    \"Accept-Encoding\": \"application/gzip\",\n",
    "    \"X-RapidAPI-Key\": \"b8c9c6504amshc82c0d13e535d71p1cad4ajsn08176449ecaa\",\n",
    "    \"X-RapidAPI-Host\": \"google-translate1.p.rapidapi.com\"\n",
    "}\n",
    "\n",
    "response = requests.post(url, data=payload, headers=headers)\n",
    "\n",
    "print(response.json())"
   ]
  },
  {
   "cell_type": "code",
   "execution_count": 20,
   "id": "644001d3",
   "metadata": {},
   "outputs": [
    {
     "data": {
      "text/html": [
       "\n",
       "        <iframe\n",
       "            width=\"100%\"\n",
       "            height=\"650\"\n",
       "            src=\"http://127.0.0.1:8051/\"\n",
       "            frameborder=\"0\"\n",
       "            allowfullscreen\n",
       "            \n",
       "        ></iframe>\n",
       "        "
      ],
      "text/plain": [
       "<IPython.lib.display.IFrame at 0x1e1e6f27fa0>"
      ]
     },
     "metadata": {},
     "output_type": "display_data"
    }
   ],
   "source": [
    "import dash\n",
    "import dash_core_components as dcc\n",
    "import dash_html_components as html\n",
    "import plotly.express as px\n",
    "from dash.dependencies import Input, Output\n",
    "import requests\n",
    "\n",
    "# Set up the Dash app\n",
    "app = dash.Dash(__name__)\n",
    "\n",
    "# Define the layout of the dashboard\n",
    "app.layout = html.Div([\n",
    "    html.H1(\"Language Detection Dashboard\"),\n",
    "    html.Div(id='language-info'),\n",
    "    dcc.Graph(id='confidence-chart'),\n",
    "    dcc.Interval(\n",
    "        id='interval-component',\n",
    "        interval=60000,  # Update every minute\n",
    "        n_intervals=0\n",
    "    )\n",
    "])\n",
    "\n",
    "# Function to fetch language detection data\n",
    "def fetch_language_detection():\n",
    "    url = \"https://google-translate1.p.rapidapi.com/language/translate/v2/detect\"\n",
    "    payload = { \"q\": \"English is hard, but detectably so\" }\n",
    "    headers = {\n",
    "        \"content-type\": \"application/x-www-form-urlencoded\",\n",
    "        \"Accept-Encoding\": \"application/gzip\",\n",
    "        \"X-RapidAPI-Key\": \"b8c9c6504amshc82c0d13e535d71p1cad4ajsn08176449ecaa\",\n",
    "        \"X-RapidAPI-Host\": \"google-translate1.p.rapidapi.com\"\n",
    "    }\n",
    "    response = requests.post(url, data=payload, headers=headers)\n",
    "    if response.status_code == 200:\n",
    "        return response.json()['data']['detections'][0][0]\n",
    "    else:\n",
    "        return None\n",
    "\n",
    "# Callback to update language information\n",
    "@app.callback(\n",
    "    [Output('language-info', 'children'),\n",
    "     Output('confidence-chart', 'figure')],\n",
    "    [Input('interval-component', 'n_intervals')]\n",
    ")\n",
    "def update_language_info(n):\n",
    "    detection_result = fetch_language_detection()\n",
    "    if detection_result:\n",
    "        language = detection_result['language']\n",
    "        confidence = detection_result['confidence']\n",
    "        \n",
    "        # Create pie chart for confidence score\n",
    "        fig = px.pie(\n",
    "            values=[confidence, 1-confidence],\n",
    "            names=['Confidence', 'Other'],\n",
    "            title=f'Confidence Score for Detected Language ({language})',\n",
    "            hole=0.4,\n",
    "            labels={'label': 'Confidence'}\n",
    "        )\n",
    "\n",
    "        return html.Div([\n",
    "            html.H3(f\"Detected Language: {language}\"),\n",
    "            html.P(f\"Confidence: {confidence:.2f}\")\n",
    "        ]), fig\n",
    "    else:\n",
    "        return html.P(\"Failed to fetch language detection data.\"), {}\n",
    "\n",
    "# Run the Dash app\n",
    "if __name__ == '__main__':\n",
    "    app.run_server(debug=True, port = 8051)    # If get OSError we can use port variable to use different port server.\n"
   ]
  },
  {
   "cell_type": "code",
   "execution_count": null,
   "id": "268fcc87",
   "metadata": {},
   "outputs": [],
   "source": []
  }
 ],
 "metadata": {
  "kernelspec": {
   "display_name": "Python 3 (ipykernel)",
   "language": "python",
   "name": "python3"
  },
  "language_info": {
   "codemirror_mode": {
    "name": "ipython",
    "version": 3
   },
   "file_extension": ".py",
   "mimetype": "text/x-python",
   "name": "python",
   "nbconvert_exporter": "python",
   "pygments_lexer": "ipython3",
   "version": "3.10.9"
  }
 },
 "nbformat": 4,
 "nbformat_minor": 5
}
